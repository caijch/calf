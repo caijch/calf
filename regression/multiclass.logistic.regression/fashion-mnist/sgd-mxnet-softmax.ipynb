{
 "cells": [
  {
   "cell_type": "code",
   "execution_count": null,
   "metadata": {
    "collapsed": true
   },
   "outputs": [],
   "source": [
    "import mxnet as mx\n",
    "from mxnet import nd, autograd as ag\n",
    "from dataloader import DataLoader\n",
    "import numpy as np\n",
    "import datetime\n",
    "import matplotlib.pylab as plt"
   ]
  },
  {
   "cell_type": "markdown",
   "metadata": {},
   "source": [
    "# Data"
   ]
  },
  {
   "cell_type": "code",
   "execution_count": null,
   "metadata": {
    "collapsed": true
   },
   "outputs": [],
   "source": [
    "dl = DataLoader('~/.datasets/Han.Xiao/fashion-mnist/')\n",
    "train_img,train_labels = dl.get_data(kind='train')\n",
    "test_img,test_labels = dl.get_data(kind='t10k')"
   ]
  },
  {
   "cell_type": "code",
   "execution_count": null,
   "metadata": {},
   "outputs": [],
   "source": [
    "DataLoader.show_images(train_img[0:10])\n",
    "DataLoader.get_labels(train_labels[0:10])"
   ]
  },
  {
   "cell_type": "code",
   "execution_count": null,
   "metadata": {},
   "outputs": [],
   "source": [
    "train_img.shape"
   ]
  },
  {
   "cell_type": "code",
   "execution_count": null,
   "metadata": {},
   "outputs": [],
   "source": [
    "train_labels.shape"
   ]
  },
  {
   "cell_type": "code",
   "execution_count": null,
   "metadata": {
    "collapsed": true
   },
   "outputs": [],
   "source": [
    "# 修改为float以便求导，除以255做归一化\n",
    "train_img_nd = nd.array(train_img).astype(np.float32)/255\n",
    "train_lab_nd = nd.array(train_labels).astype(np.float32)\n",
    "test_img_nd = nd.array(test_img).astype(np.float32)/255\n",
    "test_lab_nd = nd.array(test_labels).astype(np.float32)"
   ]
  },
  {
   "cell_type": "code",
   "execution_count": null,
   "metadata": {
    "collapsed": true
   },
   "outputs": [],
   "source": [
    "def data_iter(batch_size=100, kind='train'):\n",
    "    if kind != 'train':\n",
    "        idx = list(range(len(test_labels)))\n",
    "        for i in range(0,len(test_labels), batch_size):\n",
    "            j = nd.array(idx[i:min(i+batch_size,len(test_labels))])\n",
    "            yield nd.take(test_img_nd,j), nd.take(test_lab_nd,j)\n",
    "    else:\n",
    "        idx = list(range(len(train_labels)))\n",
    "        for i in range(0,len(train_labels), batch_size):\n",
    "            j = nd.array(idx[i:min(i+batch_size,len(train_labels))])\n",
    "            yield nd.take(train_img_nd,j), nd.take(train_lab_nd,j)"
   ]
  },
  {
   "cell_type": "markdown",
   "metadata": {
    "collapsed": true
   },
   "source": [
    "# Model"
   ]
  },
  {
   "cell_type": "markdown",
   "metadata": {},
   "source": [
    "$$\\boldsymbol{\\hat y} = net({\\boldsymbol x}) = softmax({\\boldsymbol{x}}\\ {W} + {\\boldsymbol{b}})$$"
   ]
  },
  {
   "cell_type": "code",
   "execution_count": null,
   "metadata": {
    "collapsed": true
   },
   "outputs": [],
   "source": [
    "md_ctx = mx.gpu()\n",
    "num_input = 784\n",
    "num_output = 10\n",
    "num_examples = len(train_labels)\n",
    "batch_size = 100\n",
    "\n",
    "W = nd.random_normal(shape=(num_input, num_output),ctx=md_ctx)\n",
    "W.attach_grad()\n",
    "b = nd.random_normal(shape=(num_output),ctx=md_ctx)\n",
    "b.attach_grad()\n",
    "\n",
    "params = [W,b]"
   ]
  },
  {
   "cell_type": "code",
   "execution_count": null,
   "metadata": {
    "collapsed": true
   },
   "outputs": [],
   "source": [
    "def softmax(X):\n",
    "    e = nd.exp(X)\n",
    "    t = nd.sum(e, axis=1, keepdims=True)\n",
    "    return e/t"
   ]
  },
  {
   "cell_type": "code",
   "execution_count": null,
   "metadata": {
    "collapsed": true
   },
   "outputs": [],
   "source": [
    "def net(X):\n",
    "    X = X.as_in_context(md_ctx)\n",
    "    return softmax(nd.dot(X,W) + b)"
   ]
  },
  {
   "cell_type": "code",
   "execution_count": null,
   "metadata": {
    "collapsed": true
   },
   "outputs": [],
   "source": [
    "def cross_entropy(yhat,y):\n",
    "    yhat = yhat.as_in_context(md_ctx)\n",
    "    y = y.as_in_context(md_ctx)\n",
    "    return - nd.log(nd.pick(yhat,y))"
   ]
  },
  {
   "cell_type": "markdown",
   "metadata": {},
   "source": [
    "# Train"
   ]
  },
  {
   "cell_type": "code",
   "execution_count": null,
   "metadata": {
    "collapsed": true
   },
   "outputs": [],
   "source": [
    "def SGD(params, lr):\n",
    "    for p in params:\n",
    "        p[:] = p - lr*p.grad"
   ]
  },
  {
   "cell_type": "code",
   "execution_count": null,
   "metadata": {
    "collapsed": true
   },
   "outputs": [],
   "source": [
    "# 新建一个“精度”计算的函数\n",
    "def accuracy(yhat,y):\n",
    "    yhat = yhat.as_in_context(md_ctx)\n",
    "    y = y.as_in_context(md_ctx)\n",
    "    return nd.mean(yhat.argmax(axis=1)==y).asscalar()"
   ]
  },
  {
   "cell_type": "code",
   "execution_count": null,
   "metadata": {},
   "outputs": [],
   "source": [
    "epochs = 5\n",
    "\n",
    "t1 = datetime.datetime.now()\n",
    "\n",
    "for e in range(epochs):\n",
    "    train_loss = 0.\n",
    "    train_accu = 0.\n",
    "    \n",
    "    for data,label in data_iter(batch_size=batch_size):\n",
    "        with ag.record():\n",
    "            yhat = net(data)\n",
    "            loss = cross_entropy(yhat,label)\n",
    "        loss.backward()\n",
    "        SGD(params, 0.1/batch_size)\n",
    "                \n",
    "        train_loss += nd.mean(loss).asscalar()\n",
    "        train_accu += accuracy(yhat,label)\n",
    "\n",
    "    print(train_loss/len(train_labels))\n",
    "    print(train_accu/len(train_labels))\n",
    "\n",
    "print(datetime.datetime.now()-t1)"
   ]
  },
  {
   "cell_type": "markdown",
   "metadata": {},
   "source": [
    "# Test"
   ]
  },
  {
   "cell_type": "code",
   "execution_count": null,
   "metadata": {},
   "outputs": [],
   "source": [
    "yhat = net(test_img_nd)\n",
    "accu = accuracy(yhat,test_lab_nd)\n",
    "\n",
    "print(accu/len(test_labels))"
   ]
  },
  {
   "cell_type": "code",
   "execution_count": null,
   "metadata": {},
   "outputs": [],
   "source": [
    "# 分组查看各类图像的错误情况\n",
    "\n",
    "test_pred = yhat.argmax(axis=1).asnumpy()\n",
    "err = test_pred - test_labels\n",
    "err_idx = err.nonzero()[0]\n",
    "err_idx.shape"
   ]
  },
  {
   "cell_type": "code",
   "execution_count": null,
   "metadata": {
    "collapsed": true
   },
   "outputs": [],
   "source": [
    "err_nums = nd.zeros(shape=(10,1))\n",
    "err_detail = nd.zeros(shape=(10,10))\n",
    "\n",
    "for i in err_idx:\n",
    "    err_num = test_labels[i]\n",
    "    err_nums[err_num.item()] += 1\n",
    "    err_detail[err_num.item(),int(test_pred[i].item())] += 1"
   ]
  },
  {
   "cell_type": "code",
   "execution_count": null,
   "metadata": {
    "scrolled": true
   },
   "outputs": [],
   "source": [
    "bar_width_rate = 0.08\n",
    "\n",
    "plt.figure(figsize=(15,5)) \n",
    "plt.bar(np.arange(10),err_nums.asnumpy(),width=bar_width_rate*10)\n",
    "\n",
    "for j in range(10):\n",
    "    plt.bar(np.arange(10)-bar_width_rate*5+bar_width_rate/2+j*bar_width_rate,\n",
    "            -err_detail.T[j].asnumpy(),\n",
    "            label=j,\n",
    "            width=bar_width_rate,\n",
    "            color='C'+str(j))\n",
    "plt.xticks(np.arange(10))\n",
    "plt.legend(loc='center left', bbox_to_anchor=(1, 0.5))\n",
    "plt.show()"
   ]
  },
  {
   "cell_type": "code",
   "execution_count": null,
   "metadata": {},
   "outputs": [],
   "source": [
    "DataLoader.get_labels(test_labels[0:1])"
   ]
  },
  {
   "cell_type": "code",
   "execution_count": null,
   "metadata": {},
   "outputs": [],
   "source": [
    "# 查看将0错认为6的图片\n",
    "\n",
    "imgs = np.empty(shape=[0,28*28])\n",
    "for i,tl,tp in zip(range(len(test_labels)),test_labels,test_pred):\n",
    "    if (tl==0) and (tp == 6.):\n",
    "        imgs = np.row_stack((imgs,test_img[i]))\n",
    "\n",
    "print(\"true label:\", DataLoader.get_labels([0]), \"Pred label:\", DataLoader.get_labels([6]))\n",
    "print(imgs.shape)\n",
    "\n",
    "for j in range(0,len(imgs),10):\n",
    "    DataLoader.show_images(imgs[j:min(j+10,len(imgs))])"
   ]
  }
 ],
 "metadata": {
  "kernelspec": {
   "display_name": "Python 3",
   "language": "python",
   "name": "python3"
  },
  "language_info": {
   "codemirror_mode": {
    "name": "ipython",
    "version": 3
   },
   "file_extension": ".py",
   "mimetype": "text/x-python",
   "name": "python",
   "nbconvert_exporter": "python",
   "pygments_lexer": "ipython3",
   "version": "3.5.2"
  },
  "toc": {
   "nav_menu": {},
   "number_sections": true,
   "sideBar": true,
   "skip_h1_title": false,
   "toc_cell": false,
   "toc_position": {},
   "toc_section_display": "block",
   "toc_window_display": false
  }
 },
 "nbformat": 4,
 "nbformat_minor": 2
}
